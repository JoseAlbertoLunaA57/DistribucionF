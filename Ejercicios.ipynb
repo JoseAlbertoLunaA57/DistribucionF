{
 "cells": [
  {
   "cell_type": "markdown",
   "id": "f74a60f9",
   "metadata": {},
   "source": [
    "# T - Student "
   ]
  },
  {
   "cell_type": "markdown",
   "id": "c9c0c6d4",
   "metadata": {},
   "source": [
    "# Menu\n",
    "\n",
    "- [Ejercicio 1](#ex_1)\n",
    "- [Ejercicio 2](#ex_2)\n",
    "- [Ejercicio 3](#ex_3)\n",
    "- [Ejercicio 4](#ex_4)\n",
    "- [Ejercicio 5](#ex_5)\n",
    "- [Ejercicio 6](#ex_6)\n",
    "- [Ejercicio 7](#ex_7)\n",
    "- [Ejercicio 8](#ex_8)\n",
    "- [Ejercicio 9](#ex_9)"
   ]
  },
  {
   "cell_type": "code",
   "execution_count": null,
   "id": "5bcb272a",
   "metadata": {},
   "outputs": [],
   "source": [
    "from scipy.stats import norm"
   ]
  },
  {
   "cell_type": "markdown",
   "id": "e0ab6da6",
   "metadata": {},
   "source": [
    "<div id=ex_1></div>\n",
    "\n",
    "[[Menu]](#Menu)   |   [[Siguiente]](#ex_2) \n",
    "___\n",
    "<span style=\"color: #153CEE; font-size: 20px; font-weight: bold;\">Ejercicio 1</span>."
   ]
  },
  {
   "cell_type": "markdown",
   "id": "f7135847",
   "metadata": {},
   "source": [
    "Aquí la descripción del ejercicio"
   ]
  },
  {
   "cell_type": "code",
   "execution_count": null,
   "id": "f5bee786",
   "metadata": {},
   "outputs": [
    {
     "name": "stdout",
     "output_type": "stream",
     "text": [
      "Aquí el código\n"
     ]
    }
   ],
   "source": [
    "print(\"Aquí el código\")"
   ]
  },
  {
   "cell_type": "markdown",
   "id": "14438c51",
   "metadata": {},
   "source": [
    "<div id=ex_2></div>\n",
    "\n",
    "[[Menu]](#Menu)   |   [[Anterior]](#ex_1)   [[Siguiente]](#ex_3) \n",
    "___\n",
    "\n",
    "<span style=\"color: #153CEE; font-size: 20px; font-weight: bold;\">Ejercicio 2</span>. "
   ]
  },
  {
   "cell_type": "markdown",
   "id": "f6f042a9",
   "metadata": {},
   "source": [
    "Aquí la descripción del ejercicio"
   ]
  },
  {
   "cell_type": "code",
   "execution_count": 1,
   "id": "1a7d9d3f",
   "metadata": {},
   "outputs": [
    {
     "name": "stdout",
     "output_type": "stream",
     "text": [
      "Aqui el codigo\n"
     ]
    }
   ],
   "source": [
    "print(\"Aqui el codigo\")"
   ]
  },
  {
   "cell_type": "markdown",
   "id": "54ce8f7b",
   "metadata": {},
   "source": [
    "<div id=ex_3></div>\n",
    "\n",
    "[[Menu]](#Menu)   |   [[Anterior]](#ex_2)   [[Siguiente]](#ex_4) \n",
    "___\n",
    "\n",
    "<span style=\"color: #153CEE; font-size: 20px; font-weight: bold;\">Ejercicio 3</span>. "
   ]
  },
  {
   "cell_type": "markdown",
   "id": "0276e43e",
   "metadata": {},
   "source": [
    "Aquí la descripción del ejercicio"
   ]
  },
  {
   "cell_type": "code",
   "execution_count": null,
   "id": "77e86a5f",
   "metadata": {},
   "outputs": [
    {
     "name": "stdout",
     "output_type": "stream",
     "text": [
      "Aquí el código\n"
     ]
    }
   ],
   "source": [
    "print(\"Aquí el código\")"
   ]
  },
  {
   "cell_type": "markdown",
   "id": "3410b2ef",
   "metadata": {},
   "source": [
    "<div id=ex_4></div>\n",
    "\n",
    "[[Menu]](#Menu)   |   [[Anterior]](#ex_3)   [[Siguiente]](#ex_5) \n",
    "___\n",
    "\n",
    "<span style=\"color: #153CEE; font-size: 20px; font-weight: bold;\">Ejercicio 4</span>. "
   ]
  },
  {
   "cell_type": "markdown",
   "id": "856daf5d",
   "metadata": {},
   "source": [
    "aqui el problema"
   ]
  },
  {
   "cell_type": "code",
   "execution_count": null,
   "id": "6fbc2242",
   "metadata": {},
   "outputs": [
    {
     "name": "stdout",
     "output_type": "stream",
     "text": [
      "aqui el codigo\n"
     ]
    }
   ],
   "source": [
    "print(\"aqui el codigo\")\n"
   ]
  },
  {
   "cell_type": "markdown",
   "id": "cede6d94",
   "metadata": {},
   "source": [
    "<div id=ex_5></div>\n",
    "\n",
    "[[Menu]](#Menu)   |   [[Anterior]](#ex_4)   [[Siguiente]](#ex_6) \n",
    "___\n",
    "\n",
    "<span style=\"color: #153CEE; font-size: 20px; font-weight: bold;\">Ejercicio 5</span>. "
   ]
  },
  {
   "cell_type": "markdown",
   "id": "a42f8274",
   "metadata": {},
   "source": [
    "Aqui el problema"
   ]
  },
  {
   "cell_type": "code",
   "execution_count": null,
   "id": "10f1fc14",
   "metadata": {},
   "outputs": [
    {
     "name": "stdout",
     "output_type": "stream",
     "text": [
      "aqui el codigo\n"
     ]
    }
   ],
   "source": [
    "print(\"aqui el codigo\")"
   ]
  },
  {
   "cell_type": "markdown",
   "id": "88a4b1b0",
   "metadata": {},
   "source": [
    "<div id=ex_6></div>\n",
    "\n",
    "[[Menu]](#Menu)   |   [[Anterior]](#ex_5)   [[Siguiente]](#ex_7) \n",
    "___\n",
    "\n",
    "<span style=\"color: #153CEE; font-size: 20px; font-weight: bold;\">Ejercicio 6</span>. "
   ]
  },
  {
   "cell_type": "markdown",
   "id": "a786e93b",
   "metadata": {},
   "source": [
    "aqui el problema\n"
   ]
  },
  {
   "cell_type": "code",
   "execution_count": null,
   "id": "1576ebb3",
   "metadata": {},
   "outputs": [
    {
     "name": "stdout",
     "output_type": "stream",
     "text": [
      "aqui el codigo\n"
     ]
    }
   ],
   "source": [
    "print(\"aqui el codigo\")"
   ]
  },
  {
   "cell_type": "markdown",
   "id": "ceddf0a4",
   "metadata": {},
   "source": [
    "<div id=ex_7></div>\n",
    "\n",
    "[[Menu]](#Menu)   |   [[Anterior]](#ex_6)   [[Siguiente]](#ex_8) \n",
    "___\n",
    "\n",
    "<span style=\"color: #153CEE; font-size: 20px; font-weight: bold;\">Ejercicio 7</span>. "
   ]
  },
  {
   "cell_type": "markdown",
   "id": "d8fe191d",
   "metadata": {},
   "source": []
  },
  {
   "cell_type": "code",
   "execution_count": null,
   "id": "fa846258",
   "metadata": {},
   "outputs": [],
   "source": []
  },
  {
   "cell_type": "markdown",
   "id": "f1ec26eb",
   "metadata": {},
   "source": [
    "<div id=ex_8></div>\n",
    "\n",
    "[[Menu]](#Menu)   |   [[Anterior]](#ex_7)   [[Siguiente]](#ex_9) \n",
    "___\n",
    "\n",
    "<span style=\"color: #153CEE; font-size: 20px; font-weight: bold;\">Ejercicio 8</span>. "
   ]
  },
  {
   "cell_type": "markdown",
   "id": "db432176",
   "metadata": {},
   "source": [
    "\n",
    "aqui el problema"
   ]
  },
  {
   "cell_type": "code",
   "execution_count": null,
   "id": "68a02110",
   "metadata": {},
   "outputs": [],
   "source": []
  },
  {
   "cell_type": "markdown",
   "id": "fbca4ee8",
   "metadata": {},
   "source": [
    "<div id=ex_9></div>\n",
    "\n",
    "[[Menu]](#Menu)   |   [[Anterior]](#ex_8)  \n",
    "___\n",
    "\n",
    "<span style=\"color: #153CEE; font-size: 20px; font-weight: bold;\">Ejercicio 9</span>."
   ]
  },
  {
   "cell_type": "markdown",
   "id": "2606d265",
   "metadata": {},
   "source": []
  },
  {
   "cell_type": "code",
   "execution_count": null,
   "id": "8eaafb75",
   "metadata": {},
   "outputs": [],
   "source": [
    "\n"
   ]
  }
 ],
 "metadata": {
  "kernelspec": {
   "display_name": "Python 3",
   "language": "python",
   "name": "python3"
  },
  "language_info": {
   "codemirror_mode": {
    "name": "ipython",
    "version": 3
   },
   "file_extension": ".py",
   "mimetype": "text/x-python",
   "name": "python",
   "nbconvert_exporter": "python",
   "pygments_lexer": "ipython3",
   "version": "3.12.6"
  }
 },
 "nbformat": 4,
 "nbformat_minor": 5
}
